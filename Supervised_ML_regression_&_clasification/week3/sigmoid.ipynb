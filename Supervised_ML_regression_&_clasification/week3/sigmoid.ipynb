{
 "cells": [
  {
   "cell_type": "code",
   "execution_count": 2,
   "id": "4012c761-dbbc-4bf9-889f-16758e44b92e",
   "metadata": {},
   "outputs": [],
   "source": [
    "import numpy as np\n",
    "import matplotlib.pyplot as plt"
   ]
  },
  {
   "cell_type": "code",
   "execution_count": 4,
   "id": "be0b4148-2244-4fad-a9ad-37d2d20faae0",
   "metadata": {},
   "outputs": [
    {
     "name": "stdout",
     "output_type": "stream",
     "text": [
      "Input to exp: [1 2 3]\n",
      "Output of exp: [ 2.71828183  7.3890561  20.08553692]\n",
      "Input to exp: 1\n",
      "Output of exp: 2.718281828459045\n"
     ]
    }
   ],
   "source": [
    "# Input is an array. \n",
    "input_array = np.array([1,2,3])\n",
    "exp_array = np.exp(input_array)\n",
    "\n",
    "print(\"Input to exp:\", input_array)\n",
    "print(\"Output of exp:\", exp_array)\n",
    "\n",
    "# Input is a single number\n",
    "input_val = 1  \n",
    "exp_val = np.exp(input_val)\n",
    "\n",
    "print(\"Input to exp:\", input_val)\n",
    "print(\"Output of exp:\", exp_val)"
   ]
  },
  {
   "cell_type": "code",
   "execution_count": 6,
   "id": "b82bcff7-258e-49e2-a196-34a443ddeb61",
   "metadata": {},
   "outputs": [],
   "source": [
    "def sigmoid(z):\n",
    "    \"\"\"\n",
    "    Compute the sigmoid of z\n",
    "\n",
    "    Args:\n",
    "        z (ndarray): A scalar, numpy array of any size.\n",
    "\n",
    "    Returns:\n",
    "        g (ndarray): sigmoid(z), with the same shape as z\n",
    "         \n",
    "    \"\"\"\n",
    "\n",
    "    g = 1/(1+np.exp(-z))\n",
    "   \n",
    "    return g"
   ]
  },
  {
   "cell_type": "code",
   "execution_count": 8,
   "id": "591a5408-4d9b-420a-ac46-f3c3b671ca96",
   "metadata": {},
   "outputs": [
    {
     "name": "stdout",
     "output_type": "stream",
     "text": [
      "Input (z), Output (sigmoid(z))\n",
      "[[-1.000e+01  4.540e-05]\n",
      " [-9.000e+00  1.234e-04]\n",
      " [-8.000e+00  3.354e-04]\n",
      " [-7.000e+00  9.111e-04]\n",
      " [-6.000e+00  2.473e-03]\n",
      " [-5.000e+00  6.693e-03]\n",
      " [-4.000e+00  1.799e-02]\n",
      " [-3.000e+00  4.743e-02]\n",
      " [-2.000e+00  1.192e-01]\n",
      " [-1.000e+00  2.689e-01]\n",
      " [ 0.000e+00  5.000e-01]\n",
      " [ 1.000e+00  7.311e-01]\n",
      " [ 2.000e+00  8.808e-01]\n",
      " [ 3.000e+00  9.526e-01]\n",
      " [ 4.000e+00  9.820e-01]\n",
      " [ 5.000e+00  9.933e-01]\n",
      " [ 6.000e+00  9.975e-01]\n",
      " [ 7.000e+00  9.991e-01]\n",
      " [ 8.000e+00  9.997e-01]\n",
      " [ 9.000e+00  9.999e-01]\n",
      " [ 1.000e+01  1.000e+00]]\n"
     ]
    }
   ],
   "source": [
    "# Generate an array of evenly spaced values between -10 and 10\n",
    "z_tmp = np.arange(-10,11)\n",
    "\n",
    "# Use the function implemented above to get the sigmoid values\n",
    "y = sigmoid(z_tmp)\n",
    "\n",
    "# Code for pretty printing the two arrays next to each other\n",
    "np.set_printoptions(precision=3) \n",
    "print(\"Input (z), Output (sigmoid(z))\")\n",
    "print(np.c_[z_tmp, y])"
   ]
  },
  {
   "cell_type": "code",
   "execution_count": 10,
   "id": "34bb3ee0-db8c-4baa-a828-3e59f9427f83",
   "metadata": {},
   "outputs": [
    {
     "data": {
      "image/png": "[encoded data removed]",
      "text/plain": [
       "<Figure size 500x300 with 1 Axes>"
      ]
     },
     "metadata": {},
     "output_type": "display_data"
    }
   ],
   "source": [
    "fig, ax = plt.subplots(1, 1, figsize=(5, 3))\n",
    "ax.plot(z_tmp, y, c=\"b\")  # Plot the sigmoid function\n",
    "ax.set_title(\"Sigmoid Function\")\n",
    "ax.set_ylabel('sigmoid(z)')\n",
    "ax.set_xlabel('z')\n",
    "\n",
    "# Add a vertical threshold line at z = 0\n",
    "def draw_vthresh(ax, thresh):\n",
    "    ax.axvline(x=thresh, color=\"red\", linestyle=\"--\", label=f\"Threshold z={thresh}\")\n",
    "    ax.legend()\n",
    "\n",
    "draw_vthresh(ax, 0)"
   ]
  },
  {
   "cell_type": "code",
   "execution_count": 12,
   "id": "2f08a354-e631-4377-ab77-2db0b4ef9240",
   "metadata": {},
   "outputs": [],
   "source": [
    "x_train = np.array([0., 1, 2, 3, 4, 5])\n",
    "y_train = np.array([0,  0, 0, 1, 1, 1])\n",
    "\n",
    "w_in = np.zeros((1))\n",
    "b_in = 0"
   ]
  },
  {
   "cell_type": "code",
   "execution_count": 18,
   "id": "ca652f25-daf2-46be-b6dc-126bdb1fe78f",
   "metadata": {},
   "outputs": [],
   "source": [
    "def draw_vthresh(ax, thresh):\n",
    "    ax.axvline(x=thresh, color=\"red\", linestyle=\"--\", label=f\"Threshold z={thresh}\")\n",
    "    ax.legend()"
   ]
  },
  {
   "cell_type": "code",
   "execution_count": 20,
   "id": "1f056dcc-ccc5-494f-9b0f-6d7e91006077",
   "metadata": {},
   "outputs": [],
   "source": [
    "def onclick(event):\n",
    "    if event.xdata is not None and event.ydata is not None:\n",
    "        # Get the z value from the x-coordinate (user click)\n",
    "        z_clicked = event.xdata\n",
    "        # Compute the sigmoid value at the clicked z\n",
    "        sigmoid_val = sigmoid(z_clicked)\n",
    "        \n",
    "        # Plot the clicked point\n",
    "        ax.scatter(z_clicked, sigmoid_val, c='green', marker='x', label=f\"Clicked: z={z_clicked:.2f}, sigmoid={sigmoid_val:.2f}\")\n",
    "        \n",
    "        # Update the threshold line (optional)\n",
    "        draw_vthresh(ax, 0)\n",
    "        \n",
    "        # Redraw the plot to update\n",
    "        plt.draw()\n",
    "\n",
    "# Connect the onclick event to the onclick function\n",
    "fig.canvas.mpl_connect('button_press_event', onclick)\n",
    "\n",
    "# Show the plot with interactive functionality\n",
    "plt.show()"
   ]
  },
  {
   "cell_type": "code",
   "execution_count": null,
   "id": "d969bb05-150e-4eb9-b822-1d4030d6adb1",
   "metadata": {},
   "outputs": [],
   "source": []
  }
 ],
 "metadata": {
  "kernelspec": {
   "display_name": "Python 3 (ipykernel)",
   "language": "python",
   "name": "python3"
  },
  "language_info": {
   "codemirror_mode": {
    "name": "ipython",
    "version": 3
   },
   "file_extension": ".py",
   "mimetype": "text/x-python",
   "name": "python",
   "nbconvert_exporter": "python",
   "pygments_lexer": "ipython3",
   "version": "3.12.4"
  }
 },
 "nbformat": 4,
 "nbformat_minor": 5
}
