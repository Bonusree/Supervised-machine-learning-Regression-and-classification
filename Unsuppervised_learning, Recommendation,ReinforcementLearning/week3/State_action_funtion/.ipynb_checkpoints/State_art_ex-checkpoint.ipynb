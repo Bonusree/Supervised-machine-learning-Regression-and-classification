{
 "cells": [
  {
   "cell_type": "code",
   "execution_count": 21,
   "id": "c533f2dc-8a00-4f38-8f2b-72cd78835a65",
   "metadata": {},
   "outputs": [],
   "source": [
    "import numpy as np\n",
    "from utils import *"
   ]
  },
  {
   "cell_type": "code",
   "execution_count": 22,
   "id": "87a52846-7d0c-47ad-b55a-17d19d57f18f",
   "metadata": {},
   "outputs": [],
   "source": [
    "num_states=6\n",
    "num_action=2"
   ]
  },
  {
   "cell_type": "code",
   "execution_count": 30,
   "id": "072a1ba7-e793-48f7-81ab-7a1e7a8c28e3",
   "metadata": {},
   "outputs": [],
   "source": [
    "terminal_left_reward=100\n",
    "terminal_right_reward=40\n",
    "each_step_reward=0"
   ]
  },
  {
   "cell_type": "code",
   "execution_count": 24,
   "id": "4d97c575-11ba-4c46-866a-7fe114061e5e",
   "metadata": {},
   "outputs": [],
   "source": [
    "gamma=0.5\n",
    "misstep_prob=0\n"
   ]
  },
  {
   "cell_type": "code",
   "execution_count": 26,
   "id": "54bfb0bd-ef25-4630-bfc8-39d527d20393",
   "metadata": {},
   "outputs": [],
   "source": [
    "import matplotlib.pyplot as plt\n",
    "\n",
    "\n",
    "def generate_visualization(terminal_left_reward, terminal_right_reward, each_step_reward, gamma, misstep_prob):\n",
    "    num_states = 6\n",
    "    num_actions = 2  # 0 = left, 1 = right\n",
    "    actions = ['←', '→']\n",
    "    \n",
    "    # Initialize Q-values\n",
    "    Q = np.zeros((num_states, num_actions))\n",
    "    rewards = [each_step_reward] * num_states\n",
    "    rewards[0] = terminal_left_reward\n",
    "    rewards[-1] = terminal_right_reward\n",
    "\n",
    "    # Assume deterministic environment\n",
    "    for s in range(num_states):\n",
    "        for a in range(num_actions):\n",
    "            if s == 0 or s == num_states - 1:\n",
    "                Q[s, a] = rewards[s]\n",
    "            else:\n",
    "                next_s = s - 1 if a == 0 else s + 1\n",
    "                Q[s, a] = rewards[s] + gamma * Q[next_s, 0]  # Simplified Bellman update\n",
    "\n",
    "    # Value function and policy\n",
    "    V = np.max(Q, axis=1)\n",
    "    policy = np.argmax(Q, axis=1)\n",
    "\n",
    "    # Plotting\n",
    "    fig, axs = plt.subplots(2, 1, figsize=(10, 4))\n",
    "    \n",
    "    # Optimal policy plot\n",
    "    axs[0].set_title(\"Optimal policy\")\n",
    "    for s in range(num_states):\n",
    "        axs[0].text(s, 0.6, f\"{V[s]:.1f}\", ha='center', va='bottom', color='red')\n",
    "        axs[0].text(s, 0.3, actions[policy[s]], ha='center', va='center', fontsize=18, color='orange')\n",
    "        axs[0].add_patch(plt.Rectangle((s-0.5, 0), 1, 1, fill=False, edgecolor='black'))\n",
    "    axs[0].axis('off')\n",
    "    axs[0].set_xlim(-0.5, num_states - 0.5)\n",
    "    \n",
    "    # Q-values plot\n",
    "    axs[1].set_title(\"Q(s, a)\")\n",
    "    for s in range(num_states):\n",
    "        for a in range(num_actions):\n",
    "            axs[1].text(s, 1-a, f\"{Q[s,a]:.1f}\", ha='center', va='center', color='black')\n",
    "        axs[1].add_patch(plt.Rectangle((s-0.5, -0.5), 1, 2, fill=False, edgecolor='black'))\n",
    "    axs[1].axis('off')\n",
    "    axs[1].set_xlim(-0.5, num_states - 0.5)\n",
    "    \n",
    "    plt.tight_layout()\n",
    "    plt.show()\n"
   ]
  },
  {
   "cell_type": "code",
   "execution_count": 32,
   "id": "8d86483f-42c8-405a-a71e-5d68cf0c00b8",
   "metadata": {},
   "outputs": [
    {
     "data": {
      "image/png": "[encoded data removed]",
      "text/plain": [
       "<Figure size 1000x400 with 2 Axes>"
      ]
     },
     "metadata": {},
     "output_type": "display_data"
    }
   ],
   "source": [
    "generate_visualization(terminal_left_reward, terminal_right_reward, each_step_reward, gamma, misstep_prob)"
   ]
  },
  {
   "cell_type": "code",
   "execution_count": null,
   "id": "9c068c18-ea98-4f77-88e2-52c8d6bd53ff",
   "metadata": {},
   "outputs": [],
   "source": []
  }
 ],
 "metadata": {
  "kernelspec": {
   "display_name": "Python 3 (ipykernel)",
   "language": "python",
   "name": "python3"
  },
  "language_info": {
   "codemirror_mode": {
    "name": "ipython",
    "version": 3
   },
   "file_extension": ".py",
   "mimetype": "text/x-python",
   "name": "python",
   "nbconvert_exporter": "python",
   "pygments_lexer": "ipython3",
   "version": "3.12.4"
  }
 },
 "nbformat": 4,
 "nbformat_minor": 5
}
