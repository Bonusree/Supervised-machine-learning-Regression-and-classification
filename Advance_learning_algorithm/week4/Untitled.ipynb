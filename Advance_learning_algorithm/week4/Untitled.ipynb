{
 "cells": [
  {
   "cell_type": "code",
   "execution_count": 5,
   "id": "1c83f111-e418-4c1d-a05d-a538e2fe120f",
   "metadata": {},
   "outputs": [
    {
     "name": "stdout",
     "output_type": "stream",
     "text": [
      "   col\n",
      "0    1\n",
      "1    0\n",
      "2    1\n",
      "3    1\n",
      "4    0\n",
      "   col\n",
      "0    1\n",
      "1    0\n",
      "2    1\n",
      "3    1\n",
      "4    0\n"
     ]
    }
   ],
   "source": [
    "import pandas as pd\n",
    "\n",
    "# Sample dataframe\n",
    "df = pd.DataFrame({\n",
    "    'col': ['A', 'B', 'A', 'A', 'B']\n",
    "})\n",
    "\n",
    "# One-hot encoding the 'col' directly\n",
    "#df['col'] = pd.get_dummies(df['col'], drop_first=False)\n",
    "df['col'] = (df['col'] == 'A').astype(int)\n",
    "\n",
    "\n",
    "print(df)"
   ]
  },
  {
   "cell_type": "code",
   "execution_count": 13,
   "id": "de0f8863-6587-4a15-bd91-d79e67a3bbb0",
   "metadata": {},
   "outputs": [
    {
     "name": "stdout",
     "output_type": "stream",
     "text": [
      "   col1  col2  col3\n",
      "0     1     1     1\n",
      "1     0     0     0\n",
      "2     1     1     1\n",
      "3     1     1     1\n",
      "4     0     0     0\n"
     ]
    }
   ],
   "source": [
    "import pandas as pd\n",
    "\n",
    "# Sample dataframe with multiple columns\n",
    "df = pd.DataFrame({\n",
    "    'col1': ['A', 'B', 'A', 'A', 'B'],\n",
    "    'col2': ['X', 'Y', 'X', 'X', 'Y'],\n",
    "    'col3': ['P', 'Q', 'P', 'P', 'Q']\n",
    "})\n",
    "\n",
    "# Apply one-hot encoding to each column with two types of values\n",
    "for col in df.columns:\n",
    "   df[col] = (df[col] == df[col].iloc[0]).astype(int)\n",
    "\n",
    "print(df)"
   ]
  },
  {
   "cell_type": "code",
   "execution_count": null,
   "id": "12ee9a8e-02dc-4d31-bbe4-f12719f21f1a",
   "metadata": {},
   "outputs": [],
   "source": []
  }
 ],
 "metadata": {
  "kernelspec": {
   "display_name": "Python 3 (ipykernel)",
   "language": "python",
   "name": "python3"
  },
  "language_info": {
   "codemirror_mode": {
    "name": "ipython",
    "version": 3
   },
   "file_extension": ".py",
   "mimetype": "text/x-python",
   "name": "python",
   "nbconvert_exporter": "python",
   "pygments_lexer": "ipython3",
   "version": "3.12.4"
  }
 },
 "nbformat": 4,
 "nbformat_minor": 5
}
