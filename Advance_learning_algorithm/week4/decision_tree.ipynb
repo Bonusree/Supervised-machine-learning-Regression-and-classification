{
 "cells": [
  {
   "cell_type": "code",
   "execution_count": 3,
   "id": "cc03330d-242f-4244-9399-a5bd46f88961",
   "metadata": {},
   "outputs": [],
   "source": [
    "import numpy as np\n",
    "import matplotlib.pyplot as plt\n",
    "# from public_tests import *\n",
    "\n",
    "%matplotlib inline"
   ]
  },
  {
   "cell_type": "code",
   "execution_count": 5,
   "id": "1d5c37be-92c0-4765-82d7-a10e87e24b76",
   "metadata": {},
   "outputs": [],
   "source": [
    "X_train = np.array([[1,1,1],[1,0,1],[1,0,0],[1,0,0],[1,1,1],[0,1,1],[0,0,0],[1,0,1],[0,1,0],[1,0,0]])\n",
    "y_train = np.array([1,1,0,0,1,0,0,1,1,0])"
   ]
  },
  {
   "cell_type": "code",
   "execution_count": 7,
   "id": "32cd4a34-6e24-4f71-b4c8-f8f4c34aee48",
   "metadata": {},
   "outputs": [
    {
     "name": "stdout",
     "output_type": "stream",
     "text": [
      "First few elements of X_train:\n",
      " [[1 1 1]\n",
      " [1 0 1]\n",
      " [1 0 0]\n",
      " [1 0 0]\n",
      " [1 1 1]]\n",
      "Type of X_train: <class 'numpy.ndarray'>\n"
     ]
    }
   ],
   "source": [
    "print(\"First few elements of X_train:\\n\", X_train[:5])\n",
    "print(\"Type of X_train:\",type(X_train))"
   ]
  },
  {
   "cell_type": "code",
   "execution_count": 9,
   "id": "aeb0717a-e71c-421e-a29e-68cb594fe744",
   "metadata": {},
   "outputs": [
    {
     "name": "stdout",
     "output_type": "stream",
     "text": [
      "First few elements of y_train: [1 1 0 0 1]\n",
      "Type of y_train: <class 'numpy.ndarray'>\n"
     ]
    }
   ],
   "source": [
    "print(\"First few elements of y_train:\", y_train[:5])\n",
    "print(\"Type of y_train:\",type(y_train))"
   ]
  },
  {
   "cell_type": "code",
   "execution_count": 11,
   "id": "cdd251de-07e0-4295-a137-2a5a47317014",
   "metadata": {},
   "outputs": [
    {
     "name": "stdout",
     "output_type": "stream",
     "text": [
      "The shape of X_train is: (10, 3)\n",
      "The shape of y_train is:  (10,)\n",
      "Number of training examples (m): 10\n"
     ]
    }
   ],
   "source": [
    "print ('The shape of X_train is:', X_train.shape)\n",
    "print ('The shape of y_train is: ', y_train.shape)\n",
    "print ('Number of training examples (m):', len(X_train))"
   ]
  },
  {
   "cell_type": "markdown",
   "id": "81f8617a-c5da-44ab-a00d-1ae28814bcdf",
   "metadata": {},
   "source": [
    "calculate H( entropy)"
   ]
  },
  {
   "cell_type": "code",
   "execution_count": 14,
   "id": "5223beee-b93b-4dc8-91af-2ca2d56e32d2",
   "metadata": {},
   "outputs": [],
   "source": [
    "def calculate_entropy(Y):\n",
    "    entropy=0\n",
    "    if len(y) != 0:\n",
    "        p1 = len(y[y==1])/len(y)\n",
    "        if p1 != 0 and p1 != 1:\n",
    "            entropy = -p1*np.log2(p1)-(1-p1)*np.log2(1-p1)\n",
    "        else:\n",
    "            entropy = 0\n",
    "    return entropy"
   ]
  },
  {
   "cell_type": "code",
   "execution_count": 16,
   "id": "e0789c96-3cdb-4105-a070-d3d7d90850cb",
   "metadata": {},
   "outputs": [
    {
     "ename": "NameError",
     "evalue": "name 'compute_entropy' is not defined",
     "output_type": "error",
     "traceback": [
      "\u001b[1;31m---------------------------------------------------------------------------\u001b[0m",
      "\u001b[1;31mNameError\u001b[0m                                 Traceback (most recent call last)",
      "Cell \u001b[1;32mIn[16], line 1\u001b[0m\n\u001b[1;32m----> 1\u001b[0m \u001b[38;5;28mprint\u001b[39m(\u001b[38;5;124m\"\u001b[39m\u001b[38;5;124mEntropy at root node: \u001b[39m\u001b[38;5;124m\"\u001b[39m, compute_entropy(y_train)) \n\u001b[0;32m      3\u001b[0m \u001b[38;5;66;03m# UNIT TESTS\u001b[39;00m\n\u001b[0;32m      4\u001b[0m compute_entropy_test(compute_entropy)\n",
      "\u001b[1;31mNameError\u001b[0m: name 'compute_entropy' is not defined"
     ]
    }
   ],
   "source": [
    "print(\"Entropy at root node: \", compute_entropy(y_train)) \n",
    "\n",
    "# UNIT TESTS\n",
    "compute_entropy_test(compute_entropy)"
   ]
  },
  {
   "cell_type": "code",
   "execution_count": null,
   "id": "573d1f88-8e2f-4621-8126-b052da6d65c1",
   "metadata": {},
   "outputs": [],
   "source": []
  }
 ],
 "metadata": {
  "kernelspec": {
   "display_name": "Python 3 (ipykernel)",
   "language": "python",
   "name": "python3"
  },
  "language_info": {
   "codemirror_mode": {
    "name": "ipython",
    "version": 3
   },
   "file_extension": ".py",
   "mimetype": "text/x-python",
   "name": "python",
   "nbconvert_exporter": "python",
   "pygments_lexer": "ipython3",
   "version": "3.12.4"
  }
 },
 "nbformat": 4,
 "nbformat_minor": 5
}
