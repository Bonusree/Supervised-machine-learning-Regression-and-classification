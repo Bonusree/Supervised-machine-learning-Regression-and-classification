{
 "cells": [
  {
   "cell_type": "code",
   "execution_count": 1,
   "id": "36ca6b8c-0db7-476b-bf7a-1a449f442edf",
   "metadata": {},
   "outputs": [],
   "source": [
    "import tensorflow as tf\n",
    "import pandas as pd\n",
    "import numpy as np\n",
    "from sklearn.model_selection import train_test_split\n",
    "\n"
   ]
  },
  {
   "cell_type": "code",
   "execution_count": 14,
   "id": "d706095e-ac47-4057-8def-0b26883dbc85",
   "metadata": {},
   "outputs": [],
   "source": [
    "w=tf.Variable(3.0)\n",
    "x=1.0\n",
    "y=1.0\n",
    "alpha=0.01\n",
    "iterations=31"
   ]
  },
  {
   "cell_type": "code",
   "execution_count": 16,
   "id": "86990277-dffd-40d9-801b-fb00d46f6744",
   "metadata": {},
   "outputs": [
    {
     "name": "stdout",
     "output_type": "stream",
     "text": [
      "Iteration 0: w = 2.9600000381469727, cost = 4.0\n",
      "Iteration 5: w = 2.7716846466064453, cost = 3.2682909965515137\n",
      "Iteration 10: w = 2.6014626026153564, cost = 2.670431613922119\n",
      "Iteration 15: w = 2.4475953578948975, cost = 2.181936740875244\n",
      "Iteration 20: w = 2.308511734008789, cost = 1.782801866531372\n",
      "Iteration 25: w = 2.182790756225586, cost = 1.4566786289215088\n",
      "Iteration 30: w = 2.0691490173339844, cost = 1.1902120113372803\n"
     ]
    }
   ],
   "source": [
    "for i in range(iterations):\n",
    "    with tf.GradientTape() as tape:\n",
    "        # Forward pass (model prediction)\n",
    "        fwb = w * x  # hypothesis: w * x\n",
    "        # Cost function (MSE)\n",
    "        costJ = (fwb - y) ** 2  # Mean Squared Error loss\n",
    "        \n",
    "    # Calculate gradients of cost function with respect to w\n",
    "    [djdw] = tape.gradient(costJ, [w])\n",
    "    \n",
    "    # Update the parameter w using the gradient\n",
    "    w.assign_add(-alpha * djdw)  # Gradient descent step\n",
    "\n",
    "    # Optionally print the current cost and w to track progress\n",
    "    if i % 5 == 0:  # Print every 5 iterations\n",
    "        print(f\"Iteration {i}: w = {w.numpy()}, cost = {costJ.numpy()}\")"
   ]
  },
  {
   "cell_type": "markdown",
   "id": "e100108d-3d98-4664-a3e9-1f1ab735ceca",
   "metadata": {},
   "source": [
    "** adam optimizer"
   ]
  },
  {
   "cell_type": "code",
   "execution_count": null,
   "id": "ba88990a-4d4c-4b23-984a-c19eb2f1c407",
   "metadata": {},
   "outputs": [],
   "source": [
    "optimizer=keras.optimizer.Adam(learning_rate=1e-1)\n",
    "iteration=200\n",
    "for i in range(iteration):\n",
    "    with tf.GradientTape() as tape:\n",
    "        cost_value=cofiCostFuncV(X,W,b Ynorm,R,num"
   ]
  }
 ],
 "metadata": {
  "kernelspec": {
   "display_name": "Python 3 (ipykernel)",
   "language": "python",
   "name": "python3"
  },
  "language_info": {
   "codemirror_mode": {
    "name": "ipython",
    "version": 3
   },
   "file_extension": ".py",
   "mimetype": "text/x-python",
   "name": "python",
   "nbconvert_exporter": "python",
   "pygments_lexer": "ipython3",
   "version": "3.12.4"
  }
 },
 "nbformat": 4,
 "nbformat_minor": 5
}
